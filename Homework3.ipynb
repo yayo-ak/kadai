{
 "cells": [
  {
   "cell_type": "markdown",
   "metadata": {},
   "source": [
    "# Homework 3\n",
    "\n",
    "#### トピック: 前回までの復習(関数, 条件文, ループ, リスト, 文字列など), タプル, セット, ディクショナリー, ファイル入出力\n",
    "\n",
    "### Problem 1\n",
    "\n",
    "N桁までの完全数(Perfect Number)をリストとして返す関数 **findPerfectNum()** を定義してください.  \n",
    "\n",
    "e.g.)  \n",
    "Input: 3 - Output: [6, 28, 496]"
   ]
  },
  {
   "cell_type": "code",
   "execution_count": 2,
   "metadata": {},
   "outputs": [
    {
     "data": {
      "text/plain": [
       "[6, 28, 496]"
      ]
     },
     "execution_count": 2,
     "metadata": {},
     "output_type": "execute_result"
    }
   ],
   "source": [
    "def findPerfectNum(n):\n",
    "    ans=[]\n",
    "    p=2\n",
    "    while len(ans)!=n:\n",
    "        q=1\n",
    "        m=[]\n",
    "        while (p/2)>=q:\n",
    "            if p%q==0:\n",
    "                m.append(q)\n",
    "            q+=1\n",
    "        if p==sum(m):\n",
    "                ans.append(p)\n",
    "        p+=1\n",
    "    return ans\n",
    "\n",
    "findPerfectNum(3)\n",
    "\n"
   ]
  },
  {
   "cell_type": "markdown",
   "metadata": {},
   "source": [
    "### Problem 2\n",
    "\n",
    "複数のリストを格納するタプル(e.g. ([1, 2], [3, 4]))が与えられたときに, 各リストの長さをキーとして持ち, そのリスト自体を値として持つディクショナリーを返す関数 **listToDict()** を定義してください.  \n",
    "ただし, 与えられたタプルが空の場合には空のディクショナリーを返します.  \n",
    "\n",
    "e.g.)  \n",
    "Input: ([1, 6], [3, 5, 8, 1, 0], [2]) - Output: {2: [1, 6], 5: [3, 5, 8, 1, 0], 1: [2]}  \n",
    "Input: () - Output: {}"
   ]
  },
  {
   "cell_type": "code",
   "execution_count": 14,
   "metadata": {},
   "outputs": [
    {
     "data": {
      "text/plain": [
       "{2: [1, 6], 5: [3, 5, 8, 1, 0], 1: [2]}"
      ]
     },
     "execution_count": 14,
     "metadata": {},
     "output_type": "execute_result"
    }
   ],
   "source": [
    "def listToDict(n):\n",
    "    dic={}\n",
    "    key=[]\n",
    "    for i in n:\n",
    "        j=len(i)\n",
    "        key.append(j)\n",
    "    x=0\n",
    "    for j in n:\n",
    "        dic[key[x]]=j\n",
    "        x+=1\n",
    "    return dic\n",
    "listToDict([[1, 6], [3, 5, 8, 1, 0], [2]])"
   ]
  },
  {
   "cell_type": "markdown",
   "metadata": {},
   "source": [
    "### Problem 3 (Two Sums)\n",
    "\n",
    "ある整数のリストと一つの値(ターゲット)が与えられたとき, 足すとターゲットと等しくなるようなリスト内の2つの整数の組み合わせのインデックスを求めてください. そのような整数の組み合わせが複数ある場合は任意の一組のみを返し, 組み合わせが存在しない場合は, Falseを返してください.  \n",
    "\n",
    "e.g.)  \n",
    "Input: [2, 7, 11, 15], 9 - Output: [0, 1]"
   ]
  },
  {
   "cell_type": "code",
   "execution_count": 15,
   "metadata": {},
   "outputs": [
    {
     "data": {
      "text/plain": [
       "[0, 1]"
      ]
     },
     "execution_count": 15,
     "metadata": {},
     "output_type": "execute_result"
    }
   ],
   "source": [
    "def twoSum(n,num):\n",
    "    m=[]\n",
    "    for i in range(len(n)-1):\n",
    "        for j in range(1,len(n)-i):\n",
    "            m.append(n[i]+n[i+j])\n",
    "            if num in m:\n",
    "                return [i,i+j]\n",
    "   \n",
    "    return False \n",
    "   \n",
    "twoSum([2, 7, 11, 15], 9)"
   ]
  },
  {
   "cell_type": "markdown",
   "metadata": {},
   "source": [
    "### Problem 4 (Three Sums)\n",
    "\n",
    "ある整数のリストが与えられたとき, 足すと0になるようなリスト内の3つの整数の組み合わせを全て列挙してください. そのような組み合わせが複数ある場合には組み合わせのリストを, 組み合わせが存在しない場合にはFalseを返してください.  \n",
    "\n",
    "e.g.)  \n",
    "Input: [-1, 0, 1, 2, -1, -4] - Output: [[-1, 0, 1], [-1, -1, 2]]  \n",
    "Input: [1, 3, -2, 4] - Output: False"
   ]
  },
  {
   "cell_type": "code",
   "execution_count": 8,
   "metadata": {},
   "outputs": [
    {
     "name": "stdout",
     "output_type": "stream",
     "text": [
      "[(-1, -1, 2), (0, 1, -1)]\n",
      "[(-1, -1, 2), (0, 1, -1), (0, 3, -3), (0, -2, 2), (1, 2, -3), (1, 3, -4), (-1, -2, 3)]\n"
     ]
    },
    {
     "data": {
      "text/plain": [
       "False"
      ]
     },
     "execution_count": 8,
     "metadata": {},
     "output_type": "execute_result"
    }
   ],
   "source": [
    "from itertools import permutations\n",
    "\n",
    "def threeSum(n):\n",
    "    ans,m=[],[]\n",
    "    \n",
    "    for i in range(len(n)-2):\n",
    "        for j in range(1+i,len(n)-1):\n",
    "            for k in range(2+i,len(n)):\n",
    "                if n[i]+n[j]+n[k]==0 :\n",
    "                    m.append(tuple([n[i],n[j],n[k]]))\n",
    "                    \n",
    "    for p in range(len(m)-1):\n",
    "        k=0\n",
    "        for q in range(p+1,len(m)):\n",
    "            if m[p] in list(permutations(m[q],3)):\n",
    "                k+=1\n",
    "        if k==0:\n",
    "            ans.append(m[p])\n",
    "        \n",
    "    if m!=[]:\n",
    "        ans.append(m[len(m)-1])\n",
    "        return ans\n",
    "    \n",
    "    return False \n",
    "  \n",
    "print(threeSum([-1, 0, 1, 2, -1, -4]))\n",
    "print(threeSum([-1, 0, 1, 2, -1, -4,3,-2,-3]))\n",
    "threeSum([1, 3, -2, 4])"
   ]
  },
  {
   "cell_type": "markdown",
   "metadata": {},
   "source": [
    "### Problem 5 (Valid Parenthesis)\n",
    "\n",
    "カッコの並びが正しいかどうかを判断する関数 **isValidParenthesis()** を定義してください.  \n",
    "有効なカッコの組み合わせであるためには, 始まりのカッコと終わりのカッコの種類は一致していなければならず, またカッコの数も一致していなければなりません。  \n",
    "\n",
    "e.g.)  \n",
    "Input: () - Output: True  \n",
    "Input: [({})] - Output: True  \n",
    "Input: [(]) - Output: False  \n",
    "Input: {()[} - Output: False"
   ]
  },
  {
   "cell_type": "code",
   "execution_count": 41,
   "metadata": {},
   "outputs": [
    {
     "name": "stdout",
     "output_type": "stream",
     "text": [
      "True\n",
      "True\n",
      "False\n",
      "False\n"
     ]
    }
   ],
   "source": [
    "def isValidParenthesis(s):\n",
    "    c=len(s)\n",
    "    if c%2!=0:\n",
    "        return False\n",
    "    r=c-1\n",
    "    for i in range(c//2):\n",
    "        if s[i]==\"[\" and s[r-i]==\"]\":\n",
    "            pass\n",
    "        elif s[i]==\"(\" and s[r-i]==\")\":\n",
    "            pass\n",
    "        elif s[i]==\"{\" and s[r-i]==\"}\":\n",
    "            pass\n",
    "        else:\n",
    "            return False\n",
    "    return True\n",
    "print(isValidParenthesis(\"()\"))\n",
    "print(isValidParenthesis(\"[({})]\"))\n",
    "print(isValidParenthesis(\"[(])\"))\n",
    "print(isValidParenthesis(\"{()[}\"))\n",
    "        "
   ]
  },
  {
   "cell_type": "markdown",
   "metadata": {},
   "source": [
    "### Problem 6 (Merging Two Sorted Lists)\n",
    "\n",
    "2つのソート済みのリストが与えられたときに, それらを1つのソートされたリストにする関数 **mergeSortedLists()** を定義してください. ただし, Pythonの組み込み関数である*sort()*や*sorted()*を**用いてはなりません**.  \n",
    "\n",
    "e.g.)  \n",
    "Input: [1, 2, 5], [1, 3, 4] - Output: [1, 1, 2, 3, 4, 5]  "
   ]
  },
  {
   "cell_type": "code",
   "execution_count": 19,
   "metadata": {},
   "outputs": [
    {
     "data": {
      "text/plain": [
       "[1, 1, 2, 3, 4, 5]"
      ]
     },
     "execution_count": 19,
     "metadata": {},
     "output_type": "execute_result"
    }
   ],
   "source": [
    "def mergeSortedLists(l1,l2):\n",
    "    l3=l1+l2\n",
    "    for i in range(1,len(l3)):\n",
    "        p=i\n",
    "        q=l3[i]\n",
    "        while p>0 and l3[p-1]>q:\n",
    "            l3[p]=l3[p-1]\n",
    "            p-=1\n",
    "        l3[p]=q\n",
    "    return l3\n",
    "\n",
    "mergeSortedLists( [1, 2, 5], [1, 3, 4])"
   ]
  },
  {
   "cell_type": "markdown",
   "metadata": {},
   "source": [
    "### Problem 7\n",
    "\n",
    "**与えられた金額(予算)**で買える品物の**最高合計金額**を計算するプログラムを作成してください. ただし, 入力値は`prices.txt`とします.  \n",
    "テキストファイルにはサンプルの入力値が記されており, フォーマットは以下の通りとなります.  \n",
    "\n",
    "1行目: タイトル  \n",
    "2行目: 空行  \n",
    "3行目以降: X(予算) --> 品物数 --> 品物の名前とその金額  \n",
    "\n",
    "また, 各品物は最大2つまで買うことができるとし, サンプルの入力値は空行で分けられているとします (詳しくは添付ファイルを参照).  \n",
    "プログラムの動作確認のため, 自分でテストコード(サンプルデータ)を付け足してもよいとしますが, まずは元からある入力値のみで動くプログラムを作成することを目標にしてください.  \n",
    "\n",
    "e.g.)  \n",
    "Input (`prices.txt`より抜粋):  \n",
    "\n",
    "1000    <-- 予算  \n",
    "3       <-- 品物数  \n",
    "A 450   <-- 品物の名前と値段   \n",
    "B 250   <-- 品物の名前と値段  \n",
    "C 500   <-- 品物の名前と値段  \n",
    "\n",
    "Output:  \n",
    "\n",
    "1000 <-- つまり, Cを2つ買った場合"
   ]
  },
  {
   "cell_type": "code",
   "execution_count": 9,
   "metadata": {},
   "outputs": [
    {
     "data": {
      "text/plain": [
       "{1000: [('A', 450), ('B', 250), ('C', 500)],\n",
       " 2500: [('D', 650), ('E', 850), ('F', 450), ('G', 1050)],\n",
       " 1500: [('H', 750), ('I', 800), ('J', 350), ('K', 600), ('L', 450)],\n",
       " 5000: [('牛タン塩', 790),\n",
       "  ('ねぎ牛タン塩', 890),\n",
       "  ('カルビ', 490),\n",
       "  ('中落ちカルビ', 550),\n",
       "  ('カルビ4種盛り', 1380),\n",
       "  ('ハラミ', 550),\n",
       "  ('上ハラミ', 690),\n",
       "  ('ごはん小', 190),\n",
       "  ('ごはん中', 260),\n",
       "  ('ごはん大', 350),\n",
       "  ('たまごスープ', 390),\n",
       "  ('冷麺', 690)],\n",
       " 10000: [('牛タン塩', 790),\n",
       "  ('ねぎ牛タン塩', 890),\n",
       "  ('カルビ', 490),\n",
       "  ('中落ちカルビ', 550),\n",
       "  ('カルビ4種盛り', 1380),\n",
       "  ('ハラミ', 550),\n",
       "  ('上ハラミ', 690),\n",
       "  ('ごはん小', 190),\n",
       "  ('ごはん中', 260),\n",
       "  ('ごはん大', 350),\n",
       "  ('たまごスープ', 390),\n",
       "  ('冷麺', 690)]}"
      ]
     },
     "execution_count": 9,
     "metadata": {},
     "output_type": "execute_result"
    }
   ],
   "source": [
    "from itertools import combinations\n",
    "\n",
    "def parseList(filename):\n",
    "    # ファイルの読み込みとタイトル、改行コードの消去 (置換)\n",
    "    with open(filename) as f:\n",
    "        raw_data = [line.replace(\"\\n\", \"\") for line in f.readlines()][1:]\n",
    "        # リストからディクショナリーへの変換 (必要なデータのみ取り出す)\n",
    "        data_dict = dict()\n",
    "        i = 0 \n",
    "        while i < len(raw_data):\n",
    "            if raw_data[i] == \"\":\n",
    "                data_dict[int(raw_data[i+1])] = [(j.split()[0], int(j.split()[1])) for j in raw_data[i+3 : (i+3)+int(raw_data[i+2])]]\n",
    "                i += 2 + int(raw_data[i+2]) + 1\n",
    "\n",
    "        return data_dict\n",
    "\n",
    "parseList(\"prices.txt\")"
   ]
  },
  {
   "cell_type": "code",
   "execution_count": null,
   "metadata": {},
   "outputs": [
    {
     "name": "stdout",
     "output_type": "stream",
     "text": [
      "same 1000\n",
      "same 2450\n",
      "same 1500\n"
     ]
    }
   ],
   "source": [
    "def same(list,num):\n",
    "    a=[]\n",
    "    for i in list:\n",
    "            a.append(num-i)\n",
    "            x=a.index(min(a))\n",
    "    return list[x]\n",
    "\n",
    "a=parseList(\"prices.txt\")\n",
    "w=0\n",
    "for i in a:\n",
    "    n,m,o=[],[],[]\n",
    "    for j in range(len(a[i])):\n",
    "        n.append(a[i][j][1])\n",
    "        o.append(a[i][j][1]*2)\n",
    "        n=n+o\n",
    "    for p in range(1,len(a[i])+1):\n",
    "        l=list(combinations(n,p))\n",
    "         \n",
    "        for q in range(len(l)):\n",
    "            if sum(l[q])<=i:\n",
    "                m.append(sum(l[q]))\n",
    "   \n",
    "    print(\"same\",same(m,i))"
   ]
  },
  {
   "cell_type": "code",
   "execution_count": null,
   "metadata": {},
   "outputs": [],
   "source": []
  }
 ],
 "metadata": {
  "kernelspec": {
   "display_name": "Python 3",
   "language": "python",
   "name": "python3"
  },
  "language_info": {
   "codemirror_mode": {
    "name": "ipython",
    "version": 3
   },
   "file_extension": ".py",
   "mimetype": "text/x-python",
   "name": "python",
   "nbconvert_exporter": "python",
   "pygments_lexer": "ipython3",
   "version": "3.7.4"
  }
 },
 "nbformat": 4,
 "nbformat_minor": 2
}
